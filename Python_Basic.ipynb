{
  "nbformat": 4,
  "nbformat_minor": 0,
  "metadata": {
    "colab": {
      "provenance": []
    },
    "kernelspec": {
      "name": "python3",
      "display_name": "Python 3"
    },
    "language_info": {
      "name": "python"
    }
  },
  "cells": [
    {
      "cell_type": "markdown",
      "source": [
        "# ***Python Basics Questions***"
      ],
      "metadata": {
        "id": "qS0NDJLZwOYc"
      }
    },
    {
      "cell_type": "markdown",
      "source": [
        "## **1. What is Python, and why is it popular?**\n",
        "\n",
        "*   Python is a programming language that is easy to understand and write, making it a popular choice among developers and programmers.\n",
        "*   It is compatible with various programming paradigms, such as procedural, object-oriented, and functional programming.\n",
        "*   Python has a large and active community of developers, an extensive standard library, and third-party packages for various domains.\n",
        "*   It is widely used in the industry as well as in the data industry.\n",
        "*   Python contains huge libraries and supports FrontEnd, BackEnd and Data Analysis.\n",
        "\n",
        "\n",
        "\n",
        "\n",
        "\n",
        "\n",
        "\n",
        "\n"
      ],
      "metadata": {
        "id": "3EZCVSU_KPDl"
      }
    },
    {
      "cell_type": "markdown",
      "source": [
        "## **2. What is an interpreter in Python?**\n",
        "\n",
        "*   In Python, an interpreter is a program that reads and executes Python code line by line, translating it into machine-readable instructions.\n",
        "Here's a more detailed explanation:\n",
        "* **What it does:**\n",
        "The Python interpreter takes the Python code you write (in a .py file, for example) and converts it into instructions that the computer can understand and execute.\n",
        "* **How it works:**\n",
        "It reads the code, checks for syntax errors, and then translates it into an intermediate representation called bytecode.\n",
        "The interpreter then executes the bytecode, line by line, to perform the desired actions.\n",
        "* **Why it's important:**\n",
        "Python is an interpreted language, meaning the code is executed directly by the interpreter, rather than being compiled into machine code first.\n",
        "* **Interactive mode:**\n",
        "You can also interact with the interpreter directly, typing Python commands and seeing the results immediately.\n",
        "* **Example:**\n",
        "When you run a Python script using the command python my_script.py, the Python interpreter reads and executes the code in my_script.py.\n"
      ],
      "metadata": {
        "id": "BtsOYgAWLUgV"
      }
    },
    {
      "cell_type": "markdown",
      "source": [
        "## **3.  What are pre-defined keywords in Python?**\n",
        "*   Keywords in Python are reserved words that have special meanings and serve specific purposes in the language syntax. Python keywords cannot be used as the names of variables, functions, and classes or any other identifier.\n",
        "\n",
        "**List of Keywords in Python**\n",
        "\n",
        "---\n",
        "True\n",
        "False\n",
        "None\n",
        "and\n",
        "or\n",
        "not\n",
        "is\n",
        "if\n",
        "else\n",
        "elif\n",
        "for\n",
        "while\n",
        "break\n",
        "continue\n",
        "pass\n",
        "try\n",
        "except\n",
        "finally\n",
        "raise\n",
        "assert\n",
        "def\n",
        "return\n",
        "lambda\n",
        "yield\n",
        "class\n",
        "import\n",
        "from\n",
        "in\n",
        "as\n",
        "del\n",
        "global\n",
        "with\n",
        "nonlocal\n",
        "async\n",
        "await\n",
        "\n",
        "---\n"
      ],
      "metadata": {
        "id": "kDPhQOCkMMla"
      }
    },
    {
      "cell_type": "markdown",
      "source": [
        "## **4.  Can keywords be used as variable names?**\n",
        "No, you cannot use keywords as variable names in most programming languages because keywords are reserved words with specific meanings, and using them as variable names would lead to syntax errors."
      ],
      "metadata": {
        "id": "myV0oHJhNHdT"
      }
    },
    {
      "cell_type": "markdown",
      "source": [
        "## **5.  What is mutability in Python?**\n",
        "\n",
        "*   In Python, mutability refers to an object's ability to be changed after it's created. Mutable objects, like lists and dictionaries, can be modified, while immutable objects, like strings and tuples, cannot be altered once created.\n",
        "*   **Mutable Objects:**\n",
        "\n",
        "  -- Can be modified after creation.\n",
        "\n",
        "  -- Examples include lists, dictionaries, and sets.\n",
        "\n",
        "  -- Modifying a mutable object affects all references to that object.\n",
        "  \n",
        "  -- You can add, remove, or change elements within a mutable object without creating a new object.\n",
        "\n"
      ],
      "metadata": {
        "id": "uQ1BlB1lNbed"
      }
    },
    {
      "cell_type": "markdown",
      "source": [
        "## **6.  Why are lists mutable, but tuples are immutable?**\n",
        "\n",
        "\n",
        "*   **Lists** are mutable because they are designed to be flexible and allow for dynamic changes. Lists are often used when you need to perform operations like adding, removing, or updating elements frequently.\n",
        "*   **Tuples **are immutable because they are meant to be used for fixed collections of items that shouldn't change. However, if a tuple contains mutable elements (like lists or dictionaries), you can modify the contents of those mutable elements but you cannot change the structure of the tuple itself.\n",
        "\n"
      ],
      "metadata": {
        "id": "E0fkcPfcOJmB"
      }
    },
    {
      "cell_type": "markdown",
      "source": [
        "## **7.   What is the difference between “==” and “is” operators in Python?**\n",
        "\n",
        "\n",
        "*   In Python, == checks for value equality (whether two objects have the same value), while is checks for object identity (whether two variables point to the same object in memory).\n",
        "*  **== (Equality Operator):**\n",
        "Compares the values of two objects.\n",
        "Returns True if the objects have the same value, and False otherwise.\n",
        "Example: 10 == 10 returns True, and 10 == \"10\" returns False.\n",
        "point to the same object in memory).\n",
        "* **is (Identity Operator):**\n",
        "Checks if two variables refer to the same object in memory.\n",
        "Returns True if both variables point to the same object, and False otherwise.\n",
        "Example: a = [1, 2, 3] and b = a then a is b returns True, but if c = [1, 2, 3] then a is c returns False.\n",
        "\n",
        "\n",
        "\n"
      ],
      "metadata": {
        "id": "gZaQQ6ylO6lZ"
      }
    },
    {
      "cell_type": "markdown",
      "source": [
        "## **8.   What are logical operators in Python?**\n",
        "\n",
        "\n",
        "*   In Python, logical operators, and, or, and not, are used to combine or manipulate boolean expressions, resulting in a single boolean value (True or False).\n",
        "\n",
        "**and:**\n",
        "\n",
        "* Returns True if both operands are True; otherwise, returns False.\n",
        "* Example: (x < 5) and (x < 10) is True only if both x < 5 and x < 10 are true.\n",
        "\n",
        "**or:**\n",
        "\n",
        "* Returns True if at least one of the operands is True; returns False only if both operands are False.\n",
        "* Example: (x < 5) or (x < 4) is True if either x < 5 or x < 4 (or both) are true.\n",
        "\n",
        "**not:**\n",
        "\n",
        "* Reverses the truth value of its operand; if the operand is True, it returns False, and vice-versa.\n",
        "* Example: not(x < 5 and x < 10) is True if x < 5 and x < 10 is False.\n",
        "\n",
        "\n"
      ],
      "metadata": {
        "id": "TngkJ6BrPY1L"
      }
    },
    {
      "cell_type": "markdown",
      "source": [
        "## **9.    What is type casting in Python?**\n",
        "\n",
        "\n",
        "* In Python, type casting (also known as type conversion) is the process of converting a variable's data type to another, either implicitly (automatically by Python) or explicitly (using built-in functions like int(), float(), str(), etc.).\n",
        "\n",
        "\n",
        "* **Why Type Casting?**\n",
        "You might need to convert data types to perform specific operations, ensure compatibility between different types, or prepare data for functions that expect a particular type.\n",
        "\n",
        "**Implicit Type Casting:**\n",
        "\n",
        "  -- Python sometimes automatically converts data types during operations, like when adding an integer and a float, resulting in a float.\n",
        "\n",
        "\n",
        "**Explicit Type Casting:**\n",
        "\n",
        "  -- You use built-in functions to force a conversion, like converting a string to an integer using int(\"123\").\n",
        "\n",
        "**Examples:**\n",
        "\n",
        "x = 10 (integer)\n",
        "\n",
        "y = 3.14 (float)\n",
        "\n",
        "z = \"Hello\" (string)\n",
        "\n",
        "int(y) (converts y to an integer, resulting in 3)\n",
        "\n",
        "float(x) (converts x to a float, resulting in 10.0)\n",
        "\n",
        "str(x) (converts x to a string, resulting in \"10\")\n",
        "\n",
        "**Common Conversion Functions:**\n",
        "\n",
        "int(): Converts to an integer\n",
        "\n",
        "float(): Converts to a floating-point number\n",
        "\n",
        "str(): Converts to a string\n",
        "\n",
        "list(): Converts to a list\n",
        "\n",
        "tuple(): Converts to a tuple\n",
        "\n",
        "dict(): Converts to a dictionary\n",
        "\n",
        "set(): Converts to a set"
      ],
      "metadata": {
        "id": "jTGdpT5mP6gi"
      }
    },
    {
      "cell_type": "markdown",
      "source": [
        "## **10.     What is the difference between implicit and explicit type casting?**\n",
        "\n",
        "\n",
        "*   In Python, implicit type conversion (or coercion) happens automatically by the interpreter, while explicit type conversion (or casting) requires the programmer to use built-in functions to change a variable's data type.\n",
        "\n",
        "\n",
        "**Implicit Type Conversion:**\n",
        "\n",
        "* **Definition:**\n",
        "\n",
        "  --The Python interpreter automatically converts a data type to another without the programmer's intervention.\n",
        "\n",
        "  -- This usually occurs when performing operations on values of different data types, where the interpreter tries to find a common type to perform the operation.\n",
        "\n",
        "* **Example:**\n",
        "If you add an integer (e.g., 5) to a float (e.g., 2.5), the integer will be implicitly converted to a float before the addition, resulting in a float (e.g., 7.5).\n",
        "\n",
        "* **Advantages:**\n",
        "It simplifies code by allowing the interpreter to handle type conversions automatically.\n",
        "* **Disadvantages**\n",
        "It can lead to unexpected results if the programmer is not aware of the implicit conversions happening.\n",
        "\n",
        "**Explicit Type Conversion (Casting):**\n",
        "\n",
        "* **Definition:**\n",
        "\n",
        "  -- The programmer uses built-in functions (like int(), float(), str(), etc.) to explicitly convert a variable's data type.\n",
        "\n",
        "  -- When the programmer needs to control the type conversion process and ensure that a variable is of a specific type.\n",
        "\n",
        "* **Example:**\n",
        "To convert a string to an integer, you would use int(\"10\").\n",
        "\n",
        "* **Advantages:**\n",
        "Provides control over the type conversion process, allowing the programmer to ensure that the data is in the correct format.\n",
        "\n",
        "* **Disadvantages:**\n",
        "Requires the programmer to be aware of the different data types and the functions used for conversion."
      ],
      "metadata": {
        "id": "XGQH2RyARKb8"
      }
    },
    {
      "cell_type": "markdown",
      "source": [
        "## **11.     What is the purpose of conditional statements in Python?**\n",
        "\n",
        "\n",
        "*   **Conditional statements in Python**, like if, elif, and else, allow your code to make decisions and execute different blocks of code based on whether a condition is true or false, enabling dynamic and flexible program execution.\n",
        "\n",
        "* **Decision-Making:**\n",
        "\n",
        "  Conditional statements are fundamental for creating programs that can react to different situations and user inputs.\n",
        "* **Flow Control:**\n",
        "\n",
        "  They control the order in which code is executed, allowing you to skip certain parts or execute specific blocks based on conditions.\n",
        "\n",
        "\n"
      ],
      "metadata": {
        "id": "b4cxX1HUUt2Q"
      }
    },
    {
      "cell_type": "markdown",
      "source": [
        "## **12.     How does the elif statement work?**\n",
        "\n",
        "\n",
        "\n",
        "* The **“elif”** keyword in Python, stands for “else if”.\n",
        "* It can be used in conditional statements to check for multiple conditions. For example, if the first condition is false, it moves on to the next “elif” statement to check if that condition is true. If none of the conditions are true, the code will execute the else statement.\n",
        "\n",
        "*   **Elif Syntax**\n",
        "\n",
        "\n",
        "  if condition1:\n",
        "\n",
        "      //execute code if condition1 is true\n",
        "  elif condition2:\n",
        "\n",
        "      //execute code if condition2 is true\n",
        "  else:\n",
        "\n",
        "      //execute code if all conditions are false\n",
        "\n",
        "**Example:**\n",
        "\n",
        "x = 10\n",
        "\n",
        "if x > 10:\n",
        "\n",
        "    print(\"x is greater than 10\")\n",
        "elif x < 10:\n",
        "\n",
        "    print(\"x is less than 10\")\n",
        "else:\n",
        "\n",
        "    print(\"x is equal to 10\")\n",
        "\n"
      ],
      "metadata": {
        "id": "9GzMTLtdVGsn"
      }
    },
    {
      "cell_type": "markdown",
      "source": [
        "## **13.     What is the difference between for and while loops?**\n",
        "\n",
        "\n",
        "* **For Loop**\n",
        "\n",
        "  A for loop is a control flow statement that executes code for a predefined number of iterations. The keyword used in this control flow statement is \"for\". When the number of iterations is already known, the for loop is used.\n",
        "\n",
        "*   **While Loop**\n",
        "\n",
        "  A loop that runs a single statement or a set of statements for a given true condition. This loop is represented by the keyword \"while\". When the number of iterations is unknown, a while loop is used. The statement is repeated until the Boolean value is false. Because the condition is tested at the beginning of a while loop, it is also known as the pre-test loop.\n",
        "\n",
        "\n"
      ],
      "metadata": {
        "id": "sScrIJOiWXli"
      }
    },
    {
      "cell_type": "markdown",
      "source": [
        "## **14.      Describe a scenario where a while loop is more suitable than a for loop.**\n",
        "\n",
        "\n",
        "\n",
        "*   In contrast to a 'for' loop, which is generally used when the number of iterations is known beforehand, a 'while' loop is ideal for situations where the number of iterations is not predetermined and depends on some dynamic condition.\n",
        "\n",
        "*   A for loop is usually better when you want a piece of code to run a certain number of times, and a while loop is better when the condition for the code to keep running is more general, such as having a boolean flag that is only set to true when a certain condition is met in the code block.\n",
        "\n"
      ],
      "metadata": {
        "id": "M8YnOFDwXPSd"
      }
    },
    {
      "cell_type": "markdown",
      "source": [
        "# ***Practical Questions***"
      ],
      "metadata": {
        "id": "xammlkVvX9NN"
      }
    },
    {
      "cell_type": "code",
      "source": [
        " # 1.Write a Python program to print \"Hello, World!.\n",
        "\n",
        " print(\"Hello World!\")"
      ],
      "metadata": {
        "colab": {
          "base_uri": "https://localhost:8080/"
        },
        "id": "_nvw7z_EYF-Q",
        "outputId": "b9515116-8da0-4a7f-e882-bf2a8f582f2c"
      },
      "execution_count": 2,
      "outputs": [
        {
          "output_type": "stream",
          "name": "stdout",
          "text": [
            "Hello World!\n"
          ]
        }
      ]
    },
    {
      "cell_type": "code",
      "source": [
        " # 2. Write a Python program that displays your name and age.\n",
        "\n",
        "name = input()\n",
        "age = input()\n",
        "print(\"Hello \" + name + \"!\")\n",
        "print(\"You are \" + age + \" years!\")"
      ],
      "metadata": {
        "colab": {
          "base_uri": "https://localhost:8080/"
        },
        "id": "g2Qvf0PPYY53",
        "outputId": "632fde7d-bd7f-48e7-b8f6-84a499f1b2f3"
      },
      "execution_count": 7,
      "outputs": [
        {
          "output_type": "stream",
          "name": "stdout",
          "text": [
            "Bhavisha\n",
            "28\n",
            "Hello Bhavisha!\n",
            "You are 28 years!\n"
          ]
        }
      ]
    },
    {
      "cell_type": "code",
      "source": [
        "# 3. Write code to print all the pre-defined keywords in Python using the keyword library.\n",
        "\n",
        "import keyword\n",
        "print(\"The list of keywords in python is ::: \")\n",
        "print(keyword.kwlist)"
      ],
      "metadata": {
        "colab": {
          "base_uri": "https://localhost:8080/"
        },
        "id": "HdxqAaMyYlt8",
        "outputId": "33ce0056-813d-42fd-b24b-ad0079297188"
      },
      "execution_count": 8,
      "outputs": [
        {
          "output_type": "stream",
          "name": "stdout",
          "text": [
            "The list of keywords in python is ::: \n",
            "['False', 'None', 'True', 'and', 'as', 'assert', 'async', 'await', 'break', 'class', 'continue', 'def', 'del', 'elif', 'else', 'except', 'finally', 'for', 'from', 'global', 'if', 'import', 'in', 'is', 'lambda', 'nonlocal', 'not', 'or', 'pass', 'raise', 'return', 'try', 'while', 'with', 'yield']\n"
          ]
        }
      ]
    },
    {
      "cell_type": "code",
      "source": [
        "# 4. Write a program that checks if a given word is a Python keyword.\n",
        "\n",
        "import keyword\n",
        "\n",
        "s = input()\n",
        "\n",
        "# Check if it's a Python keyword\n",
        "if keyword.iskeyword(s):\n",
        "    print(f\"'{s}' is a Python keyword.\")\n",
        "else:\n",
        "    print(f\"'{s}' is not a Python keyword.\")"
      ],
      "metadata": {
        "colab": {
          "base_uri": "https://localhost:8080/"
        },
        "id": "rECTr4jkafCL",
        "outputId": "ac4089bc-00bd-4cff-c487-0a98cad0ecf2"
      },
      "execution_count": 12,
      "outputs": [
        {
          "output_type": "stream",
          "name": "stdout",
          "text": [
            "while\n",
            "'while' is a Python keyword.\n"
          ]
        }
      ]
    },
    {
      "cell_type": "markdown",
      "source": [
        "###### 5. Create a list and tuple in Python, and demonstrate how attempting to change an element works differently for each.\n"
      ],
      "metadata": {
        "id": "qpLA7nowbryX"
      }
    },
    {
      "cell_type": "markdown",
      "source": [
        "##### ----------------------LIST Examples (Mutable)-------------------"
      ],
      "metadata": {
        "id": "l4w3INuLg9P2"
      }
    },
    {
      "cell_type": "code",
      "source": [
        "num = [1,2,4,5,6]\n",
        "num"
      ],
      "metadata": {
        "colab": {
          "base_uri": "https://localhost:8080/"
        },
        "id": "031-xRp8b0BA",
        "outputId": "e16ff8a3-86f9-404b-a54e-ff8e86c55783"
      },
      "execution_count": 14,
      "outputs": [
        {
          "output_type": "execute_result",
          "data": {
            "text/plain": [
              "[1, 2, 4, 5, 6]"
            ]
          },
          "metadata": {},
          "execution_count": 14
        }
      ]
    },
    {
      "cell_type": "code",
      "source": [
        "num[-2] = 7\n",
        "num"
      ],
      "metadata": {
        "colab": {
          "base_uri": "https://localhost:8080/"
        },
        "id": "RBT1smoygacI",
        "outputId": "819d24a4-fdfc-4977-e8e4-e3d1085268ac"
      },
      "execution_count": 15,
      "outputs": [
        {
          "output_type": "execute_result",
          "data": {
            "text/plain": [
              "[1, 2, 4, 7, 6]"
            ]
          },
          "metadata": {},
          "execution_count": 15
        }
      ]
    },
    {
      "cell_type": "code",
      "source": [
        "num[3] = 10\n",
        "num"
      ],
      "metadata": {
        "colab": {
          "base_uri": "https://localhost:8080/"
        },
        "id": "Tx9EY8qugl12",
        "outputId": "2bbf4152-a55b-4115-9e6b-66455795d562"
      },
      "execution_count": 16,
      "outputs": [
        {
          "output_type": "execute_result",
          "data": {
            "text/plain": [
              "[1, 2, 4, 10, 6]"
            ]
          },
          "metadata": {},
          "execution_count": 16
        }
      ]
    },
    {
      "cell_type": "code",
      "source": [
        "a = [10,20, 30, \"apple\", \"banana\", \"orange\", True, (1+7j) ]\n",
        "a"
      ],
      "metadata": {
        "colab": {
          "base_uri": "https://localhost:8080/"
        },
        "id": "fKghqY1QhH1O",
        "outputId": "56355d93-3024-4c97-9b33-6d89859ba11f"
      },
      "execution_count": 18,
      "outputs": [
        {
          "output_type": "execute_result",
          "data": {
            "text/plain": [
              "[10, 20, 30, 'apple', 'banana', 'orange', True, (1+7j)]"
            ]
          },
          "metadata": {},
          "execution_count": 18
        }
      ]
    },
    {
      "cell_type": "code",
      "source": [
        "a.append(\"pear\")\n",
        "a"
      ],
      "metadata": {
        "colab": {
          "base_uri": "https://localhost:8080/"
        },
        "id": "b-ftxB9HheF-",
        "outputId": "1af964e2-e0b7-40a9-c141-a456d3835361"
      },
      "execution_count": 19,
      "outputs": [
        {
          "output_type": "execute_result",
          "data": {
            "text/plain": [
              "[10, 20, 30, 'apple', 'banana', 'orange', True, (1+7j), 'pear']"
            ]
          },
          "metadata": {},
          "execution_count": 19
        }
      ]
    },
    {
      "cell_type": "code",
      "source": [
        "a.append(\"True\")\n",
        "a"
      ],
      "metadata": {
        "colab": {
          "base_uri": "https://localhost:8080/"
        },
        "id": "rk6DBWIAhsAd",
        "outputId": "f050c734-3c82-4b47-819e-73fb18018752"
      },
      "execution_count": 20,
      "outputs": [
        {
          "output_type": "execute_result",
          "data": {
            "text/plain": [
              "[10, 20, 30, 'apple', 'banana', 'orange', True, (1+7j), 'pear', 'True']"
            ]
          },
          "metadata": {},
          "execution_count": 20
        }
      ]
    },
    {
      "cell_type": "code",
      "source": [
        "a.append(90)\n",
        "a"
      ],
      "metadata": {
        "colab": {
          "base_uri": "https://localhost:8080/"
        },
        "id": "ttjvtLEPh28O",
        "outputId": "b37978f0-9596-4246-de68-3adc9deab23a"
      },
      "execution_count": 21,
      "outputs": [
        {
          "output_type": "execute_result",
          "data": {
            "text/plain": [
              "[10, 20, 30, 'apple', 'banana', 'orange', True, (1+7j), 'pear', 'True', 90]"
            ]
          },
          "metadata": {},
          "execution_count": 21
        }
      ]
    },
    {
      "cell_type": "code",
      "source": [
        "a.remove(\"orange\")\n",
        "a"
      ],
      "metadata": {
        "colab": {
          "base_uri": "https://localhost:8080/"
        },
        "id": "pZrb5sV3h515",
        "outputId": "f14e0c68-1b40-4706-e115-c6e12a15f9dd"
      },
      "execution_count": 22,
      "outputs": [
        {
          "output_type": "execute_result",
          "data": {
            "text/plain": [
              "[10, 20, 30, 'apple', 'banana', True, (1+7j), 'pear', 'True', 90]"
            ]
          },
          "metadata": {},
          "execution_count": 22
        }
      ]
    },
    {
      "cell_type": "code",
      "source": [
        "a.remove(True)\n",
        "a"
      ],
      "metadata": {
        "colab": {
          "base_uri": "https://localhost:8080/"
        },
        "id": "ZvSqI71fiC0w",
        "outputId": "d5574471-b14d-473e-f586-62ccf85f5c86"
      },
      "execution_count": 23,
      "outputs": [
        {
          "output_type": "execute_result",
          "data": {
            "text/plain": [
              "[10, 20, 30, 'apple', 'banana', (1+7j), 'pear', 'True', 90]"
            ]
          },
          "metadata": {},
          "execution_count": 23
        }
      ]
    },
    {
      "cell_type": "code",
      "source": [
        "List1 = [[1,2,3], [4,5,6],[7,8,9]]\n",
        "List1"
      ],
      "metadata": {
        "colab": {
          "base_uri": "https://localhost:8080/"
        },
        "id": "Uziv-PuziJSb",
        "outputId": "a20e4df8-416f-4640-f9fc-cfde840425bf"
      },
      "execution_count": 24,
      "outputs": [
        {
          "output_type": "execute_result",
          "data": {
            "text/plain": [
              "[[1, 2, 3], [4, 5, 6], [7, 8, 9]]"
            ]
          },
          "metadata": {},
          "execution_count": 24
        }
      ]
    },
    {
      "cell_type": "code",
      "source": [
        "List1[1][2]"
      ],
      "metadata": {
        "colab": {
          "base_uri": "https://localhost:8080/"
        },
        "id": "LBHP3YYUiXrf",
        "outputId": "198ebddf-7e37-4865-e3ce-cc7c7961a3bd"
      },
      "execution_count": 25,
      "outputs": [
        {
          "output_type": "execute_result",
          "data": {
            "text/plain": [
              "6"
            ]
          },
          "metadata": {},
          "execution_count": 25
        }
      ]
    },
    {
      "cell_type": "code",
      "source": [
        "List1[2][2]"
      ],
      "metadata": {
        "colab": {
          "base_uri": "https://localhost:8080/"
        },
        "id": "1gUCV4_higzy",
        "outputId": "d2c08c3d-9453-47e1-d5d0-fb0c65236da3"
      },
      "execution_count": 28,
      "outputs": [
        {
          "output_type": "execute_result",
          "data": {
            "text/plain": [
              "9"
            ]
          },
          "metadata": {},
          "execution_count": 28
        }
      ]
    },
    {
      "cell_type": "markdown",
      "source": [
        "##### ----------------------TUPLE Examples (Immutable)-------------------"
      ],
      "metadata": {
        "id": "MDktOI6jjMcI"
      }
    },
    {
      "cell_type": "code",
      "source": [
        "numbers = (1, 2, -10)\n",
        "print(numbers)"
      ],
      "metadata": {
        "colab": {
          "base_uri": "https://localhost:8080/"
        },
        "id": "eDLDNa8IjRd3",
        "outputId": "ba4af885-1790-4d1a-e1e7-9a18db442bb1"
      },
      "execution_count": 31,
      "outputs": [
        {
          "output_type": "stream",
          "name": "stdout",
          "text": [
            "(1, 2, -10)\n"
          ]
        }
      ]
    },
    {
      "cell_type": "code",
      "source": [
        "languages = ('Python', 'C', 'C++')\n",
        "\n",
        "# access the first item\n",
        "print(languages[0])\n",
        "\n",
        "# access the first item\n",
        "print(languages[1])\n",
        "\n",
        "# access the third item\n",
        "print(languages[2])"
      ],
      "metadata": {
        "colab": {
          "base_uri": "https://localhost:8080/"
        },
        "id": "iMXUk7mhkHgF",
        "outputId": "a7007ea5-898d-4699-9129-3b6644803391"
      },
      "execution_count": 32,
      "outputs": [
        {
          "output_type": "stream",
          "name": "stdout",
          "text": [
            "Python\n",
            "C\n",
            "C++\n"
          ]
        }
      ]
    },
    {
      "cell_type": "code",
      "source": [
        "cars = ('BMW', 'Tesla', 'Ford', 'Toyota')\n",
        "\n",
        "# trying to modify a tuple\n",
        "cars[0] = 'Nissan'    # error\n",
        "\n",
        "print(cars)"
      ],
      "metadata": {
        "colab": {
          "base_uri": "https://localhost:8080/",
          "height": 211
        },
        "id": "XglVhwHHkX0u",
        "outputId": "e015cad6-143b-464f-f80d-1f094f4ae672"
      },
      "execution_count": 33,
      "outputs": [
        {
          "output_type": "error",
          "ename": "TypeError",
          "evalue": "'tuple' object does not support item assignment",
          "traceback": [
            "\u001b[0;31m---------------------------------------------------------------------------\u001b[0m",
            "\u001b[0;31mTypeError\u001b[0m                                 Traceback (most recent call last)",
            "\u001b[0;32m<ipython-input-33-414626dedd24>\u001b[0m in \u001b[0;36m<cell line: 0>\u001b[0;34m()\u001b[0m\n\u001b[1;32m      2\u001b[0m \u001b[0;34m\u001b[0m\u001b[0m\n\u001b[1;32m      3\u001b[0m \u001b[0;31m# trying to modify a tuple\u001b[0m\u001b[0;34m\u001b[0m\u001b[0;34m\u001b[0m\u001b[0m\n\u001b[0;32m----> 4\u001b[0;31m \u001b[0mcars\u001b[0m\u001b[0;34m[\u001b[0m\u001b[0;36m0\u001b[0m\u001b[0;34m]\u001b[0m \u001b[0;34m=\u001b[0m \u001b[0;34m'Nissan'\u001b[0m    \u001b[0;31m# error\u001b[0m\u001b[0;34m\u001b[0m\u001b[0;34m\u001b[0m\u001b[0m\n\u001b[0m\u001b[1;32m      5\u001b[0m \u001b[0;34m\u001b[0m\u001b[0m\n\u001b[1;32m      6\u001b[0m \u001b[0mprint\u001b[0m\u001b[0;34m(\u001b[0m\u001b[0mcars\u001b[0m\u001b[0;34m)\u001b[0m\u001b[0;34m\u001b[0m\u001b[0;34m\u001b[0m\u001b[0m\n",
            "\u001b[0;31mTypeError\u001b[0m: 'tuple' object does not support item assignment"
          ]
        }
      ]
    },
    {
      "cell_type": "code",
      "source": [
        "cars = ('BMW', 'Tesla', 'Ford', 'Toyota')\n",
        "print('Total Items:', len(cars))\n",
        ""
      ],
      "metadata": {
        "colab": {
          "base_uri": "https://localhost:8080/"
        },
        "id": "2mmfnJTAkdok",
        "outputId": "192f3367-36da-457d-98f4-ae6cc6bf2f1e"
      },
      "execution_count": 34,
      "outputs": [
        {
          "output_type": "stream",
          "name": "stdout",
          "text": [
            "Total Items: 4\n"
          ]
        }
      ]
    },
    {
      "cell_type": "code",
      "source": [
        "fruits = (\"apple\",\"banana\",\"orange\")\n",
        "\n",
        "for fruit in fruits:\n",
        "    print(fruit)"
      ],
      "metadata": {
        "colab": {
          "base_uri": "https://localhost:8080/"
        },
        "id": "yvs6Sk21knk_",
        "outputId": "9dddc379-5def-4e31-a06f-1e92012e10e5"
      },
      "execution_count": 35,
      "outputs": [
        {
          "output_type": "stream",
          "name": "stdout",
          "text": [
            "apple\n",
            "banana\n",
            "orange\n"
          ]
        }
      ]
    },
    {
      "cell_type": "markdown",
      "source": [
        "###### 6. Write a function to demonstrate the behavior of mutable and immutable arguments."
      ],
      "metadata": {
        "id": "p9gqD9w0ltJM"
      }
    },
    {
      "cell_type": "markdown",
      "source": [
        "#####----------------------------Examples of Mutable Objects in Python----------------------------------"
      ],
      "metadata": {
        "id": "QDtJULLCl9mB"
      }
    },
    {
      "cell_type": "code",
      "source": [
        "# List\n",
        "my_list = [1, 2, 3]\n",
        "my_list[0] = 'a'  # The list now becomes ['a', 2, 3]\n",
        "my_list"
      ],
      "metadata": {
        "colab": {
          "base_uri": "https://localhost:8080/"
        },
        "id": "0s2G66z_kww6",
        "outputId": "ad22145b-90fb-444a-d096-a64fc32dd7a5"
      },
      "execution_count": 38,
      "outputs": [
        {
          "output_type": "execute_result",
          "data": {
            "text/plain": [
              "['a', 2, 3]"
            ]
          },
          "metadata": {},
          "execution_count": 38
        }
      ]
    },
    {
      "cell_type": "code",
      "source": [
        "# Dictionary\n",
        "my_dict = {'name': 'John', 'age': 30}\n",
        "my_dict['age'] = 31  # The dictionary now becomes {'name': 'John', 'age': 31}\n",
        "my_dict"
      ],
      "metadata": {
        "colab": {
          "base_uri": "https://localhost:8080/"
        },
        "id": "CJ6Q9kFOllJe",
        "outputId": "3afd9bf3-7292-4baf-d481-08ab55dc7a23"
      },
      "execution_count": 39,
      "outputs": [
        {
          "output_type": "execute_result",
          "data": {
            "text/plain": [
              "{'name': 'John', 'age': 31}"
            ]
          },
          "metadata": {},
          "execution_count": 39
        }
      ]
    },
    {
      "cell_type": "code",
      "source": [
        "# Set\n",
        "my_set = {1, 2, 3}\n",
        "my_set.add(4)  # The set now becomes {1, 2, 3, 4}\n",
        "my_set"
      ],
      "metadata": {
        "colab": {
          "base_uri": "https://localhost:8080/"
        },
        "id": "KsdtFanclobY",
        "outputId": "c7d36bf4-ee65-4db2-95e7-9effb3ab425e"
      },
      "execution_count": 40,
      "outputs": [
        {
          "output_type": "execute_result",
          "data": {
            "text/plain": [
              "{1, 2, 3, 4}"
            ]
          },
          "metadata": {},
          "execution_count": 40
        }
      ]
    },
    {
      "cell_type": "markdown",
      "source": [
        "#####-------------------------------Examples of Immutable Objects in Python------------------------------------------"
      ],
      "metadata": {
        "id": "i8bvQOSFme6l"
      }
    },
    {
      "cell_type": "code",
      "source": [
        "# Number\n",
        "my_num = 10\n",
        "# Attempting to alter the value of an integer results in the creation of a new object"
      ],
      "metadata": {
        "id": "cse6rfkjmOEL"
      },
      "execution_count": 42,
      "outputs": []
    },
    {
      "cell_type": "code",
      "source": [
        "# String\n",
        "my_str = 'Hello, world!'\n",
        "# Strings are also immutable. Any modification results in a new string object\n",
        "\n",
        "my_str"
      ],
      "metadata": {
        "colab": {
          "base_uri": "https://localhost:8080/",
          "height": 35
        },
        "id": "an9LTrvwmYAt",
        "outputId": "211af25c-0be2-4e31-c409-491ed464fde4"
      },
      "execution_count": 46,
      "outputs": [
        {
          "output_type": "execute_result",
          "data": {
            "text/plain": [
              "'Hello, world!'"
            ],
            "application/vnd.google.colaboratory.intrinsic+json": {
              "type": "string"
            }
          },
          "metadata": {},
          "execution_count": 46
        }
      ]
    },
    {
      "cell_type": "code",
      "source": [
        "# Tuple\n",
        "my_tuple = (1, 2, 3)\n",
        "# Tuples are immutable, but they can reference mutable objects\n",
        "my_tuple"
      ],
      "metadata": {
        "colab": {
          "base_uri": "https://localhost:8080/"
        },
        "id": "Ry4LQcolmcHr",
        "outputId": "7c6539aa-dd6c-4762-df41-0b87140bbd14"
      },
      "execution_count": 48,
      "outputs": [
        {
          "output_type": "execute_result",
          "data": {
            "text/plain": [
              "(1, 2, 3)"
            ]
          },
          "metadata": {},
          "execution_count": 48
        }
      ]
    },
    {
      "cell_type": "code",
      "source": [
        "# 7. Write a program that performs basic arithmetic operations on two user-input numbers.\n",
        "\n",
        "\n",
        "num1 = int(input('Enter First number: '))\n",
        "num2 = int(input('Enter Second number '))\n",
        "add = num1 + num2\n",
        "dif = num1 - num2\n",
        "mul = num1 * num2\n",
        "div = num1 / num2\n",
        "floor_div = num1 // num2\n",
        "power = num1 ** num2\n",
        "modulus = num1 % num2\n",
        "print('Sum of ',num1 ,'and' ,num2 ,'is :',add)\n",
        "print('Difference of ',num1 ,'and' ,num2 ,'is :',dif)\n",
        "print('Product of' ,num1 ,'and' ,num2 ,'is :',mul)\n",
        "print('Division of ',num1 ,'and' ,num2 ,'is :',div)\n",
        "print('Floor Division of ',num1 ,'and' ,num2 ,'is :',floor_div)\n",
        "print('Exponent of ',num1 ,'and' ,num2 ,'is :',power)\n",
        "print('Modulus of ',num1 ,'and' ,num2 ,'is :',modulus)"
      ],
      "metadata": {
        "colab": {
          "base_uri": "https://localhost:8080/"
        },
        "id": "9AGBIhxZm6KJ",
        "outputId": "eed32329-80a7-4052-cfbe-94a30068fefd"
      },
      "execution_count": 49,
      "outputs": [
        {
          "output_type": "stream",
          "name": "stdout",
          "text": [
            "Enter First number: 10\n",
            "Enter Second number 20\n",
            "Sum of  10 and 20 is : 30\n",
            "Difference of  10 and 20 is : -10\n",
            "Product of 10 and 20 is : 200\n",
            "Division of  10 and 20 is : 0.5\n",
            "Floor Division of  10 and 20 is : 0\n",
            "Exponent of  10 and 20 is : 100000000000000000000\n",
            "Modulus of  10 and 20 is : 10\n"
          ]
        }
      ]
    },
    {
      "cell_type": "code",
      "source": [
        " # 8. Write a program to demonstrate the use of logical operators.\n",
        "\n",
        " a, b, c = True, False, True\n",
        "\n",
        "# AND: Both conditions must be True\n",
        "if a and c:\n",
        "    print(\"Both a and c are True (AND condition).\")\n",
        "\n",
        "# OR: At least one condition must be True\n",
        "if b or c:\n",
        "    print(\"Either b or c is True (OR condition).\")\n",
        "\n",
        "# NOT: Reverses the condition\n",
        "if not b:\n",
        "    print(\"b is False (NOT condition).\")"
      ],
      "metadata": {
        "colab": {
          "base_uri": "https://localhost:8080/"
        },
        "id": "cBB9O2_inbEl",
        "outputId": "333d91d4-8ee0-49cc-8bbf-b65f3f855f0e"
      },
      "execution_count": 50,
      "outputs": [
        {
          "output_type": "stream",
          "name": "stdout",
          "text": [
            "Both a and c are True (AND condition).\n",
            "Either b or c is True (OR condition).\n",
            "b is False (NOT condition).\n"
          ]
        }
      ]
    },
    {
      "cell_type": "markdown",
      "source": [
        "###### 9. Write a Python program to convert user input from string to integer, float, and boolean types."
      ],
      "metadata": {
        "id": "wVDpE28zoJTj"
      }
    },
    {
      "cell_type": "code",
      "source": [
        "# String to Integer\n",
        "\n",
        "s1 = input()\n",
        "s2 = int(s1)\n",
        "print(type(s2))\n",
        "\n",
        "# As we can see the ouput, we cannot change String type to Integer type"
      ],
      "metadata": {
        "colab": {
          "base_uri": "https://localhost:8080/",
          "height": 211
        },
        "id": "I8T08larn7ri",
        "outputId": "31180621-23b8-471b-cdb3-95519bfc12c5"
      },
      "execution_count": 51,
      "outputs": [
        {
          "name": "stdout",
          "output_type": "stream",
          "text": [
            "hello\n"
          ]
        },
        {
          "output_type": "error",
          "ename": "ValueError",
          "evalue": "invalid literal for int() with base 10: 'hello'",
          "traceback": [
            "\u001b[0;31m---------------------------------------------------------------------------\u001b[0m",
            "\u001b[0;31mValueError\u001b[0m                                Traceback (most recent call last)",
            "\u001b[0;32m<ipython-input-51-bf650f0303af>\u001b[0m in \u001b[0;36m<cell line: 0>\u001b[0;34m()\u001b[0m\n\u001b[1;32m      2\u001b[0m \u001b[0;34m\u001b[0m\u001b[0m\n\u001b[1;32m      3\u001b[0m \u001b[0ms1\u001b[0m \u001b[0;34m=\u001b[0m \u001b[0minput\u001b[0m\u001b[0;34m(\u001b[0m\u001b[0;34m)\u001b[0m\u001b[0;34m\u001b[0m\u001b[0;34m\u001b[0m\u001b[0m\n\u001b[0;32m----> 4\u001b[0;31m \u001b[0ms2\u001b[0m \u001b[0;34m=\u001b[0m \u001b[0mint\u001b[0m\u001b[0;34m(\u001b[0m\u001b[0ms1\u001b[0m\u001b[0;34m)\u001b[0m\u001b[0;34m\u001b[0m\u001b[0;34m\u001b[0m\u001b[0m\n\u001b[0m\u001b[1;32m      5\u001b[0m \u001b[0mprint\u001b[0m\u001b[0;34m(\u001b[0m\u001b[0mtype\u001b[0m\u001b[0;34m(\u001b[0m\u001b[0ms2\u001b[0m\u001b[0;34m)\u001b[0m\u001b[0;34m)\u001b[0m\u001b[0;34m\u001b[0m\u001b[0;34m\u001b[0m\u001b[0m\n",
            "\u001b[0;31mValueError\u001b[0m: invalid literal for int() with base 10: 'hello'"
          ]
        }
      ]
    },
    {
      "cell_type": "code",
      "source": [
        "# String to Float\n",
        "\n",
        "s1 = input()\n",
        "s2 = float(s1)\n",
        "print(type(s2))\n",
        "\n",
        "# As we can see the ouput, we cannot change String type to Float type"
      ],
      "metadata": {
        "colab": {
          "base_uri": "https://localhost:8080/",
          "height": 211
        },
        "id": "4yDGnLASobjP",
        "outputId": "06ccc070-c472-4897-f877-4aa54d368124"
      },
      "execution_count": 52,
      "outputs": [
        {
          "name": "stdout",
          "output_type": "stream",
          "text": [
            "abc\n"
          ]
        },
        {
          "output_type": "error",
          "ename": "ValueError",
          "evalue": "could not convert string to float: 'abc'",
          "traceback": [
            "\u001b[0;31m---------------------------------------------------------------------------\u001b[0m",
            "\u001b[0;31mValueError\u001b[0m                                Traceback (most recent call last)",
            "\u001b[0;32m<ipython-input-52-2d5edb41aaaf>\u001b[0m in \u001b[0;36m<cell line: 0>\u001b[0;34m()\u001b[0m\n\u001b[1;32m      2\u001b[0m \u001b[0;34m\u001b[0m\u001b[0m\n\u001b[1;32m      3\u001b[0m \u001b[0ms1\u001b[0m \u001b[0;34m=\u001b[0m \u001b[0minput\u001b[0m\u001b[0;34m(\u001b[0m\u001b[0;34m)\u001b[0m\u001b[0;34m\u001b[0m\u001b[0;34m\u001b[0m\u001b[0m\n\u001b[0;32m----> 4\u001b[0;31m \u001b[0ms2\u001b[0m \u001b[0;34m=\u001b[0m \u001b[0mfloat\u001b[0m\u001b[0;34m(\u001b[0m\u001b[0ms1\u001b[0m\u001b[0;34m)\u001b[0m\u001b[0;34m\u001b[0m\u001b[0;34m\u001b[0m\u001b[0m\n\u001b[0m\u001b[1;32m      5\u001b[0m \u001b[0mprint\u001b[0m\u001b[0;34m(\u001b[0m\u001b[0mtype\u001b[0m\u001b[0;34m(\u001b[0m\u001b[0ms2\u001b[0m\u001b[0;34m)\u001b[0m\u001b[0;34m)\u001b[0m\u001b[0;34m\u001b[0m\u001b[0;34m\u001b[0m\u001b[0m\n",
            "\u001b[0;31mValueError\u001b[0m: could not convert string to float: 'abc'"
          ]
        }
      ]
    },
    {
      "cell_type": "code",
      "source": [
        "# String to Boolean\n",
        "\n",
        "s1 = input()\n",
        "s2 = bool(s1)\n",
        "print(type(s2))"
      ],
      "metadata": {
        "colab": {
          "base_uri": "https://localhost:8080/"
        },
        "id": "cAYhXUW3ooo0",
        "outputId": "ef3bb221-9115-40d7-dadf-4eb2a09e96ea"
      },
      "execution_count": 53,
      "outputs": [
        {
          "output_type": "stream",
          "name": "stdout",
          "text": [
            "abc\n",
            "<class 'bool'>\n"
          ]
        }
      ]
    },
    {
      "cell_type": "markdown",
      "source": [
        "###### 10.  Write code to demonstrate type casting with list elements."
      ],
      "metadata": {
        "id": "bYF2AW843k5y"
      }
    },
    {
      "cell_type": "code",
      "source": [
        "Lis = [10, 20, 30, \"A\", \"B\", True, 10.6, (4+8j)]\n",
        "Lis"
      ],
      "metadata": {
        "colab": {
          "base_uri": "https://localhost:8080/"
        },
        "id": "uSBfzWRu3qqy",
        "outputId": "b716fa2a-e9ac-4f75-f1ab-958e0bc24edf"
      },
      "execution_count": 54,
      "outputs": [
        {
          "output_type": "execute_result",
          "data": {
            "text/plain": [
              "[10, 20, 30, 'A', 'B', True, 10.6, (4+8j)]"
            ]
          },
          "metadata": {},
          "execution_count": 54
        }
      ]
    },
    {
      "cell_type": "code",
      "source": [
        "Lis[0] = 10.9\n",
        "Lis"
      ],
      "metadata": {
        "colab": {
          "base_uri": "https://localhost:8080/"
        },
        "id": "QQu8DGph4NtL",
        "outputId": "a4b0531d-0bac-4419-8a2a-987655c2cafd"
      },
      "execution_count": 55,
      "outputs": [
        {
          "output_type": "execute_result",
          "data": {
            "text/plain": [
              "[10.9, 20, 30, 'A', 'B', True, 10.6, (4+8j)]"
            ]
          },
          "metadata": {},
          "execution_count": 55
        }
      ]
    },
    {
      "cell_type": "code",
      "source": [
        "Lis[1] = \"C\"\n",
        "Lis"
      ],
      "metadata": {
        "colab": {
          "base_uri": "https://localhost:8080/"
        },
        "id": "1oIaWv6K5BLj",
        "outputId": "70bfa50a-5104-4649-a988-4c07194b24f7"
      },
      "execution_count": 56,
      "outputs": [
        {
          "output_type": "execute_result",
          "data": {
            "text/plain": [
              "[10.9, 'C', 30, 'A', 'B', True, 10.6, (4+8j)]"
            ]
          },
          "metadata": {},
          "execution_count": 56
        }
      ]
    },
    {
      "cell_type": "code",
      "source": [
        "Lis[2] = (1+4j)\n",
        "Lis"
      ],
      "metadata": {
        "colab": {
          "base_uri": "https://localhost:8080/"
        },
        "id": "YMeiP_xL5Gr1",
        "outputId": "f5012372-3f36-4775-a68d-d162d6cc2c40"
      },
      "execution_count": 57,
      "outputs": [
        {
          "output_type": "execute_result",
          "data": {
            "text/plain": [
              "[10.9, 'C', (1+4j), 'A', 'B', True, 10.6, (4+8j)]"
            ]
          },
          "metadata": {},
          "execution_count": 57
        }
      ]
    },
    {
      "cell_type": "code",
      "source": [
        "Lis[3] = False\n",
        "Lis"
      ],
      "metadata": {
        "colab": {
          "base_uri": "https://localhost:8080/"
        },
        "id": "K3SiLkVy5SkH",
        "outputId": "854f0e07-6a15-48b8-9669-39924799dd1f"
      },
      "execution_count": 59,
      "outputs": [
        {
          "output_type": "execute_result",
          "data": {
            "text/plain": [
              "[10.9, 'C', (1+4j), False, 'B', True, 10.6, (4+8j)]"
            ]
          },
          "metadata": {},
          "execution_count": 59
        }
      ]
    },
    {
      "cell_type": "code",
      "source": [
        "Lis[4] = \"Hello PWSkills\"\n",
        "Lis"
      ],
      "metadata": {
        "colab": {
          "base_uri": "https://localhost:8080/"
        },
        "id": "u0kKyoRb5W94",
        "outputId": "f9ac179a-2db2-428e-ee4d-b3d86e7844d8"
      },
      "execution_count": 60,
      "outputs": [
        {
          "output_type": "execute_result",
          "data": {
            "text/plain": [
              "[10.9, 'C', (1+4j), False, 'Hello PWSkills', True, 10.6, (4+8j)]"
            ]
          },
          "metadata": {},
          "execution_count": 60
        }
      ]
    },
    {
      "cell_type": "code",
      "source": [
        "Lis[5] = \"123\"\n",
        "Lis"
      ],
      "metadata": {
        "colab": {
          "base_uri": "https://localhost:8080/"
        },
        "id": "Mt8iQIpu5qOK",
        "outputId": "b2647b31-53b9-4e0c-f838-8a22aadec825"
      },
      "execution_count": 62,
      "outputs": [
        {
          "output_type": "execute_result",
          "data": {
            "text/plain": [
              "[10.9, 'C', (1+4j), False, 'Hello PWSkills', '123', 10.6, 1.9]"
            ]
          },
          "metadata": {},
          "execution_count": 62
        }
      ]
    },
    {
      "cell_type": "code",
      "source": [
        "Lis[7] = 1.9\n",
        "Lis"
      ],
      "metadata": {
        "colab": {
          "base_uri": "https://localhost:8080/"
        },
        "id": "Ql8x1fPT5krC",
        "outputId": "aafae829-c9be-4f9a-cc5c-02ba3fc62006"
      },
      "execution_count": 61,
      "outputs": [
        {
          "output_type": "execute_result",
          "data": {
            "text/plain": [
              "[10.9, 'C', (1+4j), False, 'Hello PWSkills', True, 10.6, 1.9]"
            ]
          },
          "metadata": {},
          "execution_count": 61
        }
      ]
    },
    {
      "cell_type": "code",
      "source": [
        "# 11. Write a program that checks if a number is positive, negative, or zero.\n",
        "\n",
        "# Using if...elif...else\n",
        "num = float(input(\"Enter a number1: \"))\n",
        "if num > 0:\n",
        "   print(\"Number1 is Positive number\")\n",
        "elif num == 0:\n",
        "   print(\"Number1 is Zero\")\n",
        "else:\n",
        "   print(\"Number1 is Negative number\")\n",
        "\n",
        "# Using Nested if\n",
        "num1 = float(input(\"Enter a number2: \"))\n",
        "if num1 >= 0:\n",
        "   if num1 == 0:\n",
        "       print(\"Number2 is Zero\")\n",
        "   else:\n",
        "       print(\"Number2 is Positive number\")\n",
        "else:\n",
        "   print(\"Number2 is Negative number\")"
      ],
      "metadata": {
        "colab": {
          "base_uri": "https://localhost:8080/"
        },
        "id": "DmNo8nhS54Ww",
        "outputId": "ecf4d5f4-afe8-4d69-e5ec-a4a2d67c87ba"
      },
      "execution_count": 72,
      "outputs": [
        {
          "output_type": "stream",
          "name": "stdout",
          "text": [
            "Enter a number1: 0\n",
            "Number1 is Zero\n",
            "Enter a number2: -12\n",
            "Number2 is Negative number\n"
          ]
        }
      ]
    },
    {
      "cell_type": "code",
      "source": [
        "# 12. Write a for loop to print numbers from 1 to 10\n",
        "\n",
        "print(\"Print integers 1 to 10 using for loop:\")\n",
        "for i in range(1, 11): # iterates for 10 times\n",
        "    print(i)"
      ],
      "metadata": {
        "colab": {
          "base_uri": "https://localhost:8080/"
        },
        "id": "ZplNA5nC7l1b",
        "outputId": "6b937051-ba82-4abd-e4b9-364c992c1f6d"
      },
      "execution_count": 73,
      "outputs": [
        {
          "output_type": "stream",
          "name": "stdout",
          "text": [
            "Print integers 1 to 10 using for loop:\n",
            "1\n",
            "2\n",
            "3\n",
            "4\n",
            "5\n",
            "6\n",
            "7\n",
            "8\n",
            "9\n",
            "10\n"
          ]
        }
      ]
    },
    {
      "cell_type": "code",
      "source": [
        "# 13. Write a Python program to find the sum of all even numbers between 1 and 50.\n",
        "\n",
        "num = int(input('Enter a number: '))\n",
        "sum = 0\n",
        "i = 0\n",
        "while i <= num:\n",
        "    if i % 2 == 0:\n",
        "        print(i)\n",
        "        sum+=i\n",
        "    i+=1\n",
        "print(f\"Sum of all the even numbers is {sum}\")"
      ],
      "metadata": {
        "colab": {
          "base_uri": "https://localhost:8080/"
        },
        "id": "1zsnqbBH96U_",
        "outputId": "204ab854-c564-4dda-cbb9-5456300eefee"
      },
      "execution_count": 75,
      "outputs": [
        {
          "output_type": "stream",
          "name": "stdout",
          "text": [
            "Enter a number: 50\n",
            "0\n",
            "2\n",
            "4\n",
            "6\n",
            "8\n",
            "10\n",
            "12\n",
            "14\n",
            "16\n",
            "18\n",
            "20\n",
            "22\n",
            "24\n",
            "26\n",
            "28\n",
            "30\n",
            "32\n",
            "34\n",
            "36\n",
            "38\n",
            "40\n",
            "42\n",
            "44\n",
            "46\n",
            "48\n",
            "50\n",
            "Sum of all the even numbers is 650\n"
          ]
        }
      ]
    },
    {
      "cell_type": "code",
      "source": [
        "# 14. Write a program to reverse a string using a while loop.\n",
        "\n",
        "def reverse_while_loop(s):\n",
        "    s1 = ''\n",
        "    length = len(s) - 1\n",
        "    while length >= 0:\n",
        "        s1 = s1 + s[length]\n",
        "        length = length - 1\n",
        "    return s1\n",
        "\n",
        "input_str = 'abcdef'\n",
        "\n",
        "if __name__ == \"__main__\":\n",
        "    print('Reverse String using while loop =', reverse_while_loop(input_str))"
      ],
      "metadata": {
        "colab": {
          "base_uri": "https://localhost:8080/"
        },
        "id": "sGFlBdUT--2g",
        "outputId": "22ad2173-c74e-4826-c1e7-4d1205bb9ef1"
      },
      "execution_count": 76,
      "outputs": [
        {
          "output_type": "stream",
          "name": "stdout",
          "text": [
            "Reverse String using while loop = fedcba\n"
          ]
        }
      ]
    },
    {
      "cell_type": "code",
      "source": [
        "# 15. Write a Python program to calculate the factorial of a number provided by the user using a while loop.\n",
        "\n",
        "fact = 1\n",
        "i = 1\n",
        "\n",
        "# To take input from the user\n",
        "num = int(input(\"Enter a number: \"))\n",
        "\n",
        "# check if the number is negative or positive\n",
        "if num < 0:\n",
        "    print(\"Sorry, factorial does not exist for negative numbers\")\n",
        "else:\n",
        "    while i <= num:\n",
        "        fact = fact*i\n",
        "        i = i + 1\n",
        "    print(\"The factorial of\", num, \"is\", fact)\n"
      ],
      "metadata": {
        "colab": {
          "base_uri": "https://localhost:8080/"
        },
        "id": "wveOLtkaBxqC",
        "outputId": "774b88e1-5224-4493-c2b2-682e56400c91"
      },
      "execution_count": 77,
      "outputs": [
        {
          "output_type": "stream",
          "name": "stdout",
          "text": [
            "Enter a number: 5\n",
            "The factorial of 5 is 120\n"
          ]
        }
      ]
    }
  ]
}